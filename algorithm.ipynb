{
 "cells": [
  {
   "cell_type": "code",
   "execution_count": 1,
   "id": "0ce8ab19",
   "metadata": {},
   "outputs": [],
   "source": [
    "#main packages\n",
    "import pandas as pd\n",
    "import numpy as np\n",
    "\n",
    "#represent data\n",
    "import matplotlib.pyplot as plt\n",
    "import seaborn as sns\n",
    "\n",
    "#alogorithms\n",
    "from sklearn.model_selection import StratifiedKFold\n",
    "from sklearn.model_selection import cross_val_score\n",
    "from sklearn.model_selection import GridSearchCV\n",
    "from sklearn.model_selection import train_test_split\n",
    "from sklearn.preprocessing import StandardScaler\n",
    "from sklearn.neighbors import KNeighborsClassifier\n",
    "from sklearn.metrics import mean_squared_error\n",
    "from sklearn.metrics import classification_report, confusion_matrix"
   ]
  },
  {
   "cell_type": "code",
   "execution_count": 2,
   "id": "4cdca583",
   "metadata": {},
   "outputs": [],
   "source": [
    "data_all=pd.read_csv(\"data.csv\")"
   ]
  },
  {
   "cell_type": "code",
   "execution_count": 3,
   "id": "c72e0875",
   "metadata": {},
   "outputs": [
    {
     "data": {
      "text/html": [
       "<div>\n",
       "<style scoped>\n",
       "    .dataframe tbody tr th:only-of-type {\n",
       "        vertical-align: middle;\n",
       "    }\n",
       "\n",
       "    .dataframe tbody tr th {\n",
       "        vertical-align: top;\n",
       "    }\n",
       "\n",
       "    .dataframe thead th {\n",
       "        text-align: right;\n",
       "    }\n",
       "</style>\n",
       "<table border=\"1\" class=\"dataframe\">\n",
       "  <thead>\n",
       "    <tr style=\"text-align: right;\">\n",
       "      <th></th>\n",
       "      <th>threat_type</th>\n",
       "      <th>threat_count</th>\n",
       "      <th>defense_type</th>\n",
       "      <th>defense_count</th>\n",
       "      <th>neutralized</th>\n",
       "    </tr>\n",
       "  </thead>\n",
       "  <tbody>\n",
       "    <tr>\n",
       "      <th>0</th>\n",
       "      <td>6</td>\n",
       "      <td>5</td>\n",
       "      <td>3</td>\n",
       "      <td>1</td>\n",
       "      <td>1</td>\n",
       "    </tr>\n",
       "    <tr>\n",
       "      <th>1</th>\n",
       "      <td>4</td>\n",
       "      <td>1</td>\n",
       "      <td>2</td>\n",
       "      <td>3</td>\n",
       "      <td>0</td>\n",
       "    </tr>\n",
       "    <tr>\n",
       "      <th>2</th>\n",
       "      <td>1</td>\n",
       "      <td>3</td>\n",
       "      <td>4</td>\n",
       "      <td>2</td>\n",
       "      <td>1</td>\n",
       "    </tr>\n",
       "    <tr>\n",
       "      <th>3</th>\n",
       "      <td>5</td>\n",
       "      <td>7</td>\n",
       "      <td>1</td>\n",
       "      <td>8</td>\n",
       "      <td>0</td>\n",
       "    </tr>\n",
       "    <tr>\n",
       "      <th>4</th>\n",
       "      <td>3</td>\n",
       "      <td>2</td>\n",
       "      <td>5</td>\n",
       "      <td>4</td>\n",
       "      <td>1</td>\n",
       "    </tr>\n",
       "    <tr>\n",
       "      <th>5</th>\n",
       "      <td>2</td>\n",
       "      <td>20</td>\n",
       "      <td>3</td>\n",
       "      <td>2</td>\n",
       "      <td>1</td>\n",
       "    </tr>\n",
       "    <tr>\n",
       "      <th>6</th>\n",
       "      <td>6</td>\n",
       "      <td>1</td>\n",
       "      <td>1</td>\n",
       "      <td>1</td>\n",
       "      <td>1</td>\n",
       "    </tr>\n",
       "    <tr>\n",
       "      <th>7</th>\n",
       "      <td>4</td>\n",
       "      <td>4</td>\n",
       "      <td>2</td>\n",
       "      <td>1</td>\n",
       "      <td>0</td>\n",
       "    </tr>\n",
       "    <tr>\n",
       "      <th>8</th>\n",
       "      <td>5</td>\n",
       "      <td>3</td>\n",
       "      <td>4</td>\n",
       "      <td>6</td>\n",
       "      <td>0</td>\n",
       "    </tr>\n",
       "    <tr>\n",
       "      <th>9</th>\n",
       "      <td>2</td>\n",
       "      <td>10</td>\n",
       "      <td>3</td>\n",
       "      <td>5</td>\n",
       "      <td>1</td>\n",
       "    </tr>\n",
       "  </tbody>\n",
       "</table>\n",
       "</div>"
      ],
      "text/plain": [
       "   threat_type  threat_count  defense_type  defense_count  neutralized\n",
       "0            6             5             3              1            1\n",
       "1            4             1             2              3            0\n",
       "2            1             3             4              2            1\n",
       "3            5             7             1              8            0\n",
       "4            3             2             5              4            1\n",
       "5            2            20             3              2            1\n",
       "6            6             1             1              1            1\n",
       "7            4             4             2              1            0\n",
       "8            5             3             4              6            0\n",
       "9            2            10             3              5            1"
      ]
     },
     "execution_count": 3,
     "metadata": {},
     "output_type": "execute_result"
    }
   ],
   "source": [
    "data_all.head(10)"
   ]
  },
  {
   "cell_type": "code",
   "execution_count": 4,
   "id": "a8101b63",
   "metadata": {},
   "outputs": [
    {
     "name": "stdout",
     "output_type": "stream",
     "text": [
      "Columns list :\n",
      "Index(['threat_type', 'threat_count', 'defense_type', 'defense_count',\n",
      "       'neutralized'],\n",
      "      dtype='object')\n"
     ]
    }
   ],
   "source": [
    "print(f\"Columns list :\\n{data_all.columns}\")"
   ]
  },
  {
   "cell_type": "code",
   "execution_count": 5,
   "id": "7390198f",
   "metadata": {},
   "outputs": [
    {
     "data": {
      "text/html": [
       "<div>\n",
       "<style scoped>\n",
       "    .dataframe tbody tr th:only-of-type {\n",
       "        vertical-align: middle;\n",
       "    }\n",
       "\n",
       "    .dataframe tbody tr th {\n",
       "        vertical-align: top;\n",
       "    }\n",
       "\n",
       "    .dataframe thead th {\n",
       "        text-align: right;\n",
       "    }\n",
       "</style>\n",
       "<table border=\"1\" class=\"dataframe\">\n",
       "  <thead>\n",
       "    <tr style=\"text-align: right;\">\n",
       "      <th></th>\n",
       "      <th>count</th>\n",
       "      <th>mean</th>\n",
       "      <th>std</th>\n",
       "      <th>min</th>\n",
       "      <th>25%</th>\n",
       "      <th>50%</th>\n",
       "      <th>75%</th>\n",
       "      <th>max</th>\n",
       "    </tr>\n",
       "  </thead>\n",
       "  <tbody>\n",
       "    <tr>\n",
       "      <th>threat_type</th>\n",
       "      <td>154.0</td>\n",
       "      <td>3.519481</td>\n",
       "      <td>1.746035</td>\n",
       "      <td>1.0</td>\n",
       "      <td>2.0</td>\n",
       "      <td>4.0</td>\n",
       "      <td>5.0</td>\n",
       "      <td>6.0</td>\n",
       "    </tr>\n",
       "    <tr>\n",
       "      <th>threat_count</th>\n",
       "      <td>154.0</td>\n",
       "      <td>5.253247</td>\n",
       "      <td>4.442165</td>\n",
       "      <td>1.0</td>\n",
       "      <td>3.0</td>\n",
       "      <td>4.0</td>\n",
       "      <td>6.0</td>\n",
       "      <td>30.0</td>\n",
       "    </tr>\n",
       "    <tr>\n",
       "      <th>defense_type</th>\n",
       "      <td>154.0</td>\n",
       "      <td>3.162338</td>\n",
       "      <td>1.374230</td>\n",
       "      <td>1.0</td>\n",
       "      <td>2.0</td>\n",
       "      <td>3.0</td>\n",
       "      <td>4.0</td>\n",
       "      <td>5.0</td>\n",
       "    </tr>\n",
       "    <tr>\n",
       "      <th>defense_count</th>\n",
       "      <td>154.0</td>\n",
       "      <td>2.642857</td>\n",
       "      <td>1.403444</td>\n",
       "      <td>1.0</td>\n",
       "      <td>2.0</td>\n",
       "      <td>2.0</td>\n",
       "      <td>3.0</td>\n",
       "      <td>8.0</td>\n",
       "    </tr>\n",
       "    <tr>\n",
       "      <th>neutralized</th>\n",
       "      <td>154.0</td>\n",
       "      <td>0.623377</td>\n",
       "      <td>0.486120</td>\n",
       "      <td>0.0</td>\n",
       "      <td>0.0</td>\n",
       "      <td>1.0</td>\n",
       "      <td>1.0</td>\n",
       "      <td>1.0</td>\n",
       "    </tr>\n",
       "  </tbody>\n",
       "</table>\n",
       "</div>"
      ],
      "text/plain": [
       "               count      mean       std  min  25%  50%  75%   max\n",
       "threat_type    154.0  3.519481  1.746035  1.0  2.0  4.0  5.0   6.0\n",
       "threat_count   154.0  5.253247  4.442165  1.0  3.0  4.0  6.0  30.0\n",
       "defense_type   154.0  3.162338  1.374230  1.0  2.0  3.0  4.0   5.0\n",
       "defense_count  154.0  2.642857  1.403444  1.0  2.0  2.0  3.0   8.0\n",
       "neutralized    154.0  0.623377  0.486120  0.0  0.0  1.0  1.0   1.0"
      ]
     },
     "execution_count": 5,
     "metadata": {},
     "output_type": "execute_result"
    }
   ],
   "source": [
    "data_all.describe().T"
   ]
  },
  {
   "cell_type": "code",
   "execution_count": 6,
   "id": "02caa5b2",
   "metadata": {},
   "outputs": [
    {
     "name": "stdout",
     "output_type": "stream",
     "text": [
      "<class 'pandas.core.frame.DataFrame'>\n",
      "RangeIndex: 154 entries, 0 to 153\n",
      "Data columns (total 5 columns):\n",
      " #   Column         Non-Null Count  Dtype\n",
      "---  ------         --------------  -----\n",
      " 0   threat_type    154 non-null    int64\n",
      " 1   threat_count   154 non-null    int64\n",
      " 2   defense_type   154 non-null    int64\n",
      " 3   defense_count  154 non-null    int64\n",
      " 4   neutralized    154 non-null    int64\n",
      "dtypes: int64(5)\n",
      "memory usage: 6.1 KB\n"
     ]
    }
   ],
   "source": [
    "data_all.info()"
   ]
  },
  {
   "cell_type": "code",
   "execution_count": 7,
   "id": "382434b7",
   "metadata": {},
   "outputs": [
    {
     "name": "stdout",
     "output_type": "stream",
     "text": [
      "No of missing values:\n",
      "Series([], dtype: float64)\n",
      "Null or NAN values:\n",
      "Series([], dtype: float64)\n"
     ]
    }
   ],
   "source": [
    "missingValues = data_all.columns[data_all.isnull().any()]                 # searches for columns with missing values\n",
    "print(f\"No of missing values:\\n{data_all[missingValues].isnull().sum()}\") # display no of missing values for each column\n",
    "nullValues = data_all.columns[data_all.isna().any()]                      # identify whether values are null or NaN\n",
    "print(f\"Null or NAN values:\\n{data_all[nullValues].isna().sum()}\")  "
   ]
  },
  {
   "cell_type": "code",
   "execution_count": 8,
   "id": "0df5ca70",
   "metadata": {},
   "outputs": [
    {
     "data": {
      "text/plain": [
       "count    154.000000\n",
       "mean       0.623377\n",
       "std        0.486120\n",
       "min        0.000000\n",
       "25%        0.000000\n",
       "50%        1.000000\n",
       "75%        1.000000\n",
       "max        1.000000\n",
       "Name: neutralized, dtype: float64"
      ]
     },
     "execution_count": 8,
     "metadata": {},
     "output_type": "execute_result"
    }
   ],
   "source": [
    "data_all[\"neutralized\"].describe()"
   ]
  },
  {
   "cell_type": "code",
   "execution_count": 9,
   "id": "e5853957",
   "metadata": {},
   "outputs": [
    {
     "data": {
      "text/plain": [
       "Text(0, 0.5, 'Number of attempts')"
      ]
     },
     "execution_count": 9,
     "metadata": {},
     "output_type": "execute_result"
    },
    {
     "data": {
      "image/png": "[encoded data removed]",
      "text/plain": [
       "<Figure size 800x400 with 1 Axes>"
      ]
     },
     "metadata": {},
     "output_type": "display_data"
    }
   ],
   "source": [
    "len(data_all)\n",
    "neutralized = len(data_all[data_all['neutralized'] == 1])\n",
    "non_neutralized = len(data_all[data_all['neutralized'] == 0])\n",
    "\n",
    "plt.figure(figsize = (10,5)) #  set the figure size of the plot\n",
    "plt.subplot(121) # creates a subplot with 1 row and 2 columns and selects the first column for plotting the bar chart\n",
    "\n",
    "# display the bar chart\n",
    "vis_defense = data_all.neutralized.value_counts().plot(figsize=(8, 4), kind=\"bar\", color = [\"#0B5345\", \"#2ECC71\", \"#1ABC9C\"])\n",
    "plt.title(\"Defense attempts\")\n",
    "plt.xlabel(\"Outcome\") \n",
    "plt.ylabel(\"Number of attempts\") \n"
   ]
  },
  {
   "cell_type": "code",
   "execution_count": 10,
   "id": "c1cc27ac",
   "metadata": {},
   "outputs": [
    {
     "data": {
      "image/png": "[encoded data removed]",
      "text/plain": [
       "<Figure size 2000x2000 with 1 Axes>"
      ]
     },
     "metadata": {},
     "output_type": "display_data"
    }
   ],
   "source": [
    "plt.figure(figsize=(20,20))\n",
    "sns.boxplot(data = data_all, palette = \"Set2\")\n",
    "plt.show()"
   ]
  },
  {
   "cell_type": "code",
   "execution_count": 11,
   "id": "ba34e637",
   "metadata": {},
   "outputs": [
    {
     "data": {
      "text/plain": [
       "150"
      ]
     },
     "execution_count": 11,
     "metadata": {},
     "output_type": "execute_result"
    }
   ],
   "source": [
    "lowerlimit = data_all.threat_count.mean() - 3*data_all.threat_count.std() # define upper limit\n",
    "upperlimit = data_all.threat_count.mean() + 3*data_all.threat_count.std() # define lower limit\n",
    "data_all = data_all[(data_all.threat_count > lowerlimit) & (data_all.threat_count < upperlimit)] #extracts data within the upper and lower limits using mean histogram_variance field\n",
    "data_all.shape[0] #no of records after outlier removal"
   ]
  },
  {
   "cell_type": "code",
   "execution_count": 12,
   "id": "062fd42f",
   "metadata": {},
   "outputs": [
    {
     "data": {
      "text/plain": [
       "148"
      ]
     },
     "execution_count": 12,
     "metadata": {},
     "output_type": "execute_result"
    }
   ],
   "source": [
    "lowerlimit = data_all.defense_count.mean() - 3*data_all.defense_count.std() # define upper limit\n",
    "upperlimit = data_all.defense_count.mean() + 3*data_all.defense_count.std() # define lower limit\n",
    "data_all = data_all[(data_all.defense_count > lowerlimit) & (data_all.defense_count < upperlimit)] #extracts data within the upper and lower limits using mean histogram_variance field\n",
    "data_all.shape[0] #no of records after outlier removal"
   ]
  },
  {
   "cell_type": "code",
   "execution_count": 13,
   "id": "d9f6d8f1",
   "metadata": {},
   "outputs": [],
   "source": [
    "col = ['threat_type', 'threat_count', 'defense_type', 'defense_count']\n",
    "scale_of_X = StandardScaler() #feature scaling\n",
    "X1 =  pd.DataFrame(scale_of_X.fit_transform(data_all.drop([\"neutralized\"],axis = 1),), columns = col)"
   ]
  },
  {
   "cell_type": "code",
   "execution_count": 14,
   "id": "a322e90b",
   "metadata": {},
   "outputs": [
    {
     "data": {
      "text/html": [
       "<div>\n",
       "<style scoped>\n",
       "    .dataframe tbody tr th:only-of-type {\n",
       "        vertical-align: middle;\n",
       "    }\n",
       "\n",
       "    .dataframe tbody tr th {\n",
       "        vertical-align: top;\n",
       "    }\n",
       "\n",
       "    .dataframe thead th {\n",
       "        text-align: right;\n",
       "    }\n",
       "</style>\n",
       "<table border=\"1\" class=\"dataframe\">\n",
       "  <thead>\n",
       "    <tr style=\"text-align: right;\">\n",
       "      <th></th>\n",
       "      <th>threat_type</th>\n",
       "      <th>threat_count</th>\n",
       "      <th>defense_type</th>\n",
       "      <th>defense_count</th>\n",
       "    </tr>\n",
       "  </thead>\n",
       "  <tbody>\n",
       "    <tr>\n",
       "      <th>0</th>\n",
       "      <td>1.406171</td>\n",
       "      <td>0.083917</td>\n",
       "      <td>-0.118297</td>\n",
       "      <td>-1.249942</td>\n",
       "    </tr>\n",
       "    <tr>\n",
       "      <th>1</th>\n",
       "      <td>0.262691</td>\n",
       "      <td>-1.158050</td>\n",
       "      <td>-0.847795</td>\n",
       "      <td>0.394426</td>\n",
       "    </tr>\n",
       "    <tr>\n",
       "      <th>2</th>\n",
       "      <td>-1.452528</td>\n",
       "      <td>-0.537067</td>\n",
       "      <td>0.611201</td>\n",
       "      <td>-0.427758</td>\n",
       "    </tr>\n",
       "    <tr>\n",
       "      <th>3</th>\n",
       "      <td>-0.309049</td>\n",
       "      <td>-0.847558</td>\n",
       "      <td>1.340699</td>\n",
       "      <td>1.216610</td>\n",
       "    </tr>\n",
       "    <tr>\n",
       "      <th>4</th>\n",
       "      <td>1.406171</td>\n",
       "      <td>-1.158050</td>\n",
       "      <td>-1.577293</td>\n",
       "      <td>-1.249942</td>\n",
       "    </tr>\n",
       "    <tr>\n",
       "      <th>5</th>\n",
       "      <td>0.262691</td>\n",
       "      <td>-0.226575</td>\n",
       "      <td>-0.847795</td>\n",
       "      <td>-1.249942</td>\n",
       "    </tr>\n",
       "    <tr>\n",
       "      <th>6</th>\n",
       "      <td>0.834431</td>\n",
       "      <td>-0.537067</td>\n",
       "      <td>0.611201</td>\n",
       "      <td>2.860979</td>\n",
       "    </tr>\n",
       "    <tr>\n",
       "      <th>7</th>\n",
       "      <td>-0.880788</td>\n",
       "      <td>1.636375</td>\n",
       "      <td>-0.118297</td>\n",
       "      <td>2.038795</td>\n",
       "    </tr>\n",
       "    <tr>\n",
       "      <th>8</th>\n",
       "      <td>-0.309049</td>\n",
       "      <td>0.394408</td>\n",
       "      <td>1.340699</td>\n",
       "      <td>-0.427758</td>\n",
       "    </tr>\n",
       "    <tr>\n",
       "      <th>9</th>\n",
       "      <td>-1.452528</td>\n",
       "      <td>-0.847558</td>\n",
       "      <td>-1.577293</td>\n",
       "      <td>0.394426</td>\n",
       "    </tr>\n",
       "  </tbody>\n",
       "</table>\n",
       "</div>"
      ],
      "text/plain": [
       "   threat_type  threat_count  defense_type  defense_count\n",
       "0     1.406171      0.083917     -0.118297      -1.249942\n",
       "1     0.262691     -1.158050     -0.847795       0.394426\n",
       "2    -1.452528     -0.537067      0.611201      -0.427758\n",
       "3    -0.309049     -0.847558      1.340699       1.216610\n",
       "4     1.406171     -1.158050     -1.577293      -1.249942\n",
       "5     0.262691     -0.226575     -0.847795      -1.249942\n",
       "6     0.834431     -0.537067      0.611201       2.860979\n",
       "7    -0.880788      1.636375     -0.118297       2.038795\n",
       "8    -0.309049      0.394408      1.340699      -0.427758\n",
       "9    -1.452528     -0.847558     -1.577293       0.394426"
      ]
     },
     "execution_count": 14,
     "metadata": {},
     "output_type": "execute_result"
    }
   ],
   "source": [
    "X1.head(10)"
   ]
  },
  {
   "cell_type": "code",
   "execution_count": 15,
   "id": "3a010b2e",
   "metadata": {},
   "outputs": [],
   "source": [
    "y1 = data_all[\"neutralized\"]\n"
   ]
  },
  {
   "cell_type": "code",
   "execution_count": 16,
   "id": "ec08ea7e",
   "metadata": {},
   "outputs": [],
   "source": [
    "X_train1, X_test1, y_train1, y_test1 = train_test_split(X1, y1, test_size = 0.3, random_state = 40, stratify = y1)"
   ]
  },
  {
   "cell_type": "code",
   "execution_count": 17,
   "id": "970cf305",
   "metadata": {},
   "outputs": [
    {
     "data": {
      "text/plain": [
       "((103, 4), (45, 4), (103,), (45,))"
      ]
     },
     "execution_count": 17,
     "metadata": {},
     "output_type": "execute_result"
    }
   ],
   "source": [
    "X_train1.shape, X_test1.shape, y_train1.shape, y_test1.shape"
   ]
  },
  {
   "cell_type": "code",
   "execution_count": 18,
   "id": "c6c9177a",
   "metadata": {},
   "outputs": [
    {
     "name": "stdout",
     "output_type": "stream",
     "text": [
      "Baseline KNN: 0.644\n"
     ]
    }
   ],
   "source": [
    "knn1 = KNeighborsClassifier() # This code fits a KNN (K-Nearest Neighbors) classifier to the training data and evaluates its performance on the test data.\n",
    "knn_mod1 = knn1.fit(X_train1, y_train1)\n",
    "print(f\"Baseline KNN: {round(knn_mod1.score(X_test1, y_test1), 3)}\")\n",
    "\n",
    "pred_knn1 = knn_mod1.predict(X_test1)"
   ]
  },
  {
   "cell_type": "code",
   "execution_count": 19,
   "id": "99259a18",
   "metadata": {},
   "outputs": [
    {
     "name": "stdout",
     "output_type": "stream",
     "text": [
      " Cross validation of KNN model:\n",
      "[0.6        0.58823529 0.58823529]\n",
      "Mean: 0.592\n",
      "Standard Deviation: 0.006\n"
     ]
    }
   ],
   "source": [
    "# splits training data into 3 sets\n",
    "cv_method1 = StratifiedKFold(n_splits=3,shuffle=True, \n",
    "                            random_state=40\n",
    "                            )\n",
    "\n",
    "scores_knn1 = cross_val_score(knn1, X_train1, y_train1, cv = cv_method1, n_jobs = 2, scoring = \"accuracy\")\n",
    "\n",
    "print(f\" Cross validation of KNN model:\\n{scores_knn1}\")\n",
    "print(f\"Mean: {round(scores_knn1.mean(), 3)}\")print(f\"Standard Deviation: {round(scores_knn1.std(), 3)}\")"
   ]
  },
  {
   "cell_type": "code",
   "execution_count": 20,
   "id": "0f47bfdc",
   "metadata": {},
   "outputs": [],
   "source": [
    "params_knn1 = {\"leaf_size\": list(range(1,30)), # leaf_size affecting the speed of the construction of the tree\n",
    "              \"n_neighbors\": list(range(1,21)), # number of neighbors to use for classification \n",
    "              \"p\": [1,2]} # p: the distance metric to use for the tree (1 for Manhattan distance, 2 for Euclidean distance)"
   ]
  },
  {
   "cell_type": "code",
   "execution_count": 21,
   "id": "4297cf50",
   "metadata": {},
   "outputs": [],
   "source": [
    "GridSearchCV_knn1 = GridSearchCV(estimator=KNeighborsClassifier(), \n",
    "                                param_grid=params_knn1, \n",
    "                                cv=cv_method1,\n",
    "                                verbose=1, \n",
    "                                n_jobs=-1,\n",
    "                                scoring=\"accuracy\", \n",
    "                                return_train_score=True\n",
    "                                )"
   ]
  },
  {
   "cell_type": "code",
   "execution_count": 22,
   "id": "d0424aa2",
   "metadata": {},
   "outputs": [
    {
     "name": "stdout",
     "output_type": "stream",
     "text": [
      "Fitting 3 folds for each of 1160 candidates, totalling 3480 fits\n"
     ]
    }
   ],
   "source": [
    "GridSearchCV_knn1.fit(X_train1, y_train1);"
   ]
  },
  {
   "cell_type": "code",
   "execution_count": 23,
   "id": "4fa21945",
   "metadata": {},
   "outputs": [
    {
     "name": "stdout",
     "output_type": "stream",
     "text": [
      "Best estimator for K-Nearest Neighbors model:\n",
      "KNeighborsClassifier(leaf_size=1, n_neighbors=1)\n"
     ]
    }
   ],
   "source": [
    "best_estimator_knn1 = GridSearchCV_knn1.best_estimator_\n",
    "print(f\"Best estimator for K-Nearest Neighbors model:\\n{best_estimator_knn1}\") # prints the best estimator for the K-Nearest Neighbors model that was found using GridSearchCV."
   ]
  },
  {
   "cell_type": "code",
   "execution_count": 24,
   "id": "42bf161f",
   "metadata": {},
   "outputs": [
    {
     "name": "stdout",
     "output_type": "stream",
     "text": [
      "Best parameter values:\n",
      "{'leaf_size': 1, 'n_neighbors': 1, 'p': 2}\n"
     ]
    }
   ],
   "source": [
    "best_params_knn1 = GridSearchCV_knn1.best_params_\n",
    "print(f\"Best parameter values:\\n{best_params_knn1}\") "
   ]
  },
  {
   "cell_type": "code",
   "execution_count": 25,
   "id": "993c5ff1",
   "metadata": {},
   "outputs": [
    {
     "name": "stdout",
     "output_type": "stream",
     "text": [
      "Best score for GNB model: 0.737\n"
     ]
    }
   ],
   "source": [
    "best_score_knn1 = GridSearchCV_knn1.best_score_\n",
    "print(f\"Best score for GNB model: {round(best_score_knn1, 3)}\")"
   ]
  },
  {
   "cell_type": "code",
   "execution_count": 26,
   "id": "b1360ecf",
   "metadata": {},
   "outputs": [],
   "source": [
    "knn1 = KNeighborsClassifier(leaf_size=1, n_neighbors=3 , p=1)\n",
    "knn_mod1 = knn1.fit(X_train1, y_train1)\n",
    "pred_knn1 = knn_mod1.predict(X_test1)\n",
    "\n",
    "mse_knn1 = mean_squared_error(y_test1, pred_knn1)\n",
    "rmse_knn1 = np.sqrt(mean_squared_error(y_test1, pred_knn1))\n",
    "score_knn_train1 = knn_mod1.score(X_train1, y_train1)\n",
    "score_knn_test1 = knn_mod1.score(X_test1, y_test1)"
   ]
  },
  {
   "cell_type": "code",
   "execution_count": 27,
   "id": "eb9c716c",
   "metadata": {},
   "outputs": [
    {
     "name": "stdout",
     "output_type": "stream",
     "text": [
      "Mean Square Error  = 0.444\n",
      "Root Mean Square = 0.667\n",
      "R^2 on training set = 0.854\n",
      "R^2 on testing set = 0.556\n"
     ]
    }
   ],
   "source": [
    "print(f\"Mean Square Error  = {round(mse_knn1, 3)}\")\n",
    "print(f\"Root Mean Square = {round(rmse_knn1, 3)}\")\n",
    "print(f\"R^2 on training set = {round(score_knn_train1, 3)}\")\n",
    "print(f\"R^2 on testing set = {round(score_knn_test1, 3)}\")"
   ]
  },
  {
   "cell_type": "markdown",
   "id": "7595c817",
   "metadata": {},
   "source": [
    "print(\"Classification Report\")\n",
    "print(classification_report(y_test1, pred_knn1))"
   ]
  },
  {
   "cell_type": "code",
   "execution_count": 30,
   "id": "b1e80dc3",
   "metadata": {},
   "outputs": [
    {
     "name": "stdout",
     "output_type": "stream",
     "text": [
      "confusion Matrix:\n",
      "[[ 8  9]\n",
      " [11 17]]\n"
     ]
    },
    {
     "data": {
      "image/png": "[encoded data removed]",
      "text/plain": [
       "<Figure size 640x480 with 2 Axes>"
      ]
     },
     "metadata": {},
     "output_type": "display_data"
    }
   ],
   "source": [
    "# This code creates a confusion matrix and its heatmap of the predictions\n",
    "print(\"confusion Matrix:\")\n",
    "print(confusion_matrix(y_test1, pred_knn1))\n",
    "\n",
    "ax1= plt.subplot()\n",
    "sns.heatmap(confusion_matrix(y_test1, pred_knn1), annot=True, ax = ax1, cmap = \"viridis\");\n",
    "\n",
    "ax1.set_xlabel(\"Predicted labels\"); # x-axis label\n",
    "ax1.set_ylabel(\"Actual labels\");      # y-axis label\n",
    "ax1.set_title(\"Confusion Matrix with heat map\");  # title\n",
    "ax1.xaxis.set_ticklabels([\"Non neutralized-0\", \"Neutralized-1\"]); # ticks"
   ]
  },
  {
   "cell_type": "code",
   "execution_count": null,
   "id": "e08af2f5",
   "metadata": {},
   "outputs": [],
   "source": []
  }
 ],
 "metadata": {
  "kernelspec": {
   "display_name": "Python 3 (ipykernel)",
   "language": "python",
   "name": "python3"
  },
  "language_info": {
   "codemirror_mode": {
    "name": "ipython",
    "version": 3
   },
   "file_extension": ".py",
   "mimetype": "text/x-python",
   "name": "python",
   "nbconvert_exporter": "python",
   "pygments_lexer": "ipython3",
   "version": "3.9.13"
  }
 },
 "nbformat": 4,
 "nbformat_minor": 5
}
